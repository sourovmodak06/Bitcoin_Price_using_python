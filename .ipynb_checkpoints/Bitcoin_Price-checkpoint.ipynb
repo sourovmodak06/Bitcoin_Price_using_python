{
 "cells": [
  {
   "cell_type": "code",
   "execution_count": 1,
   "id": "4c0f3b7f",
   "metadata": {},
   "outputs": [],
   "source": [
    "import requests\n",
    "import tkinter as tk\n",
    "from datetime import datetime"
   ]
  },
  {
   "cell_type": "code",
   "execution_count": 2,
   "id": "4c04dcd2",
   "metadata": {},
   "outputs": [],
   "source": [
    "def trackBitcoin():\n",
    "    url = \"https://min-api.cryptocompare.com/data/price?fsym=BTC&tsyms=USD,JPY,EUR\"\n",
    "    response = requests.get(url).json()\n",
    "#     print(response)\n",
    "    price = response[\"USD\"]\n",
    "    time = datetime.now().strftime(\"%H:%M:%S\")\n",
    "    \n",
    "    labelPrice.config(text = \"1 BTC = \" + str(price) + \" $\")\n",
    "    labelTime.config(text = \"Update at: \" + time)\n",
    "    \n",
    "    canvas.after(1000, trackBitcoin)"
   ]
  },
  {
   "cell_type": "code",
   "execution_count": 3,
   "id": "8d4b7c3f",
   "metadata": {},
   "outputs": [],
   "source": [
    "canvas = tk.Tk()\n",
    "canvas.geometry(\"400x500\")\n",
    "canvas.title(\"Bitcoin Tracker\")\n",
    "\n",
    "f1 = (\"poppins\", 24, \"bold\")\n",
    "f2 = (\"poppins\", 22, \"bold\")\n",
    "f3 = (\"poppins\", 18, \"normal\")"
   ]
  },
  {
   "cell_type": "code",
   "execution_count": 4,
   "id": "38439efb",
   "metadata": {},
   "outputs": [],
   "source": [
    "label = tk.Label(canvas, text = \"Bitcoin Price\", font = f1)\n",
    "label.pack(pady= 20)\n",
    "\n",
    "labelPrice = tk.Label(canvas, font = f2)\n",
    "labelPrice.pack(pady= 20)\n",
    "\n",
    "labelTime = tk.Label(canvas, font = f3)\n",
    "labelTime.pack(pady= 20)\n",
    "\n",
    "trackBitcoin()\n",
    "\n",
    "canvas.mainloop()"
   ]
  },
  {
   "cell_type": "code",
   "execution_count": null,
   "id": "af319236",
   "metadata": {},
   "outputs": [],
   "source": []
  }
 ],
 "metadata": {
  "kernelspec": {
   "display_name": "Python 3 (ipykernel)",
   "language": "python",
   "name": "python3"
  },
  "language_info": {
   "codemirror_mode": {
    "name": "ipython",
    "version": 3
   },
   "file_extension": ".py",
   "mimetype": "text/x-python",
   "name": "python",
   "nbconvert_exporter": "python",
   "pygments_lexer": "ipython3",
   "version": "3.11.1"
  }
 },
 "nbformat": 4,
 "nbformat_minor": 5
}
